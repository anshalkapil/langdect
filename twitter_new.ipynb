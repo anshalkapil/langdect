{
 "cells": [
  {
   "cell_type": "code",
   "execution_count": 2,
   "metadata": {},
   "outputs": [],
   "source": [
    "import pandas as pd\n",
    "import numpy as np\n",
    "import matplotlib.pyplot as plt\n",
    "import seaborn as sns"
   ]
  },
  {
   "cell_type": "code",
   "execution_count": 4,
   "metadata": {},
   "outputs": [],
   "source": [
    "#importing all the datasets\n",
    "ass = pd.read_csv(\"ass.csv\")\n",
    "cum = pd.read_csv(\"cum.csv\")\n",
    "dick = pd.read_csv(\"dick.csv\")\n",
    "faggot = pd.read_csv(\"faggot.csv\")\n",
    "fuck = pd.read_csv(\"fuck.csv\")\n",
    "whore = pd.read_csv(\"whore.csv\")\n",
    "nigger = pd.read_csv(\"nigger.csv\")\n",
    "normal = pd.read_csv(\"normal.csv\")\n",
    "tits = pd.read_csv(\"tits.csv\")\n",
    "pussy = pd.read_csv(\"pussy.csv\")"
   ]
  },
  {
   "cell_type": "code",
   "execution_count": 5,
   "metadata": {},
   "outputs": [],
   "source": [
    "#Labelling The Data\n",
    "\n",
    "def add_label(dataframe,label_value):\n",
    "    dataframe[\"Label\"] = label_value\n",
    "\n",
    "for df in [ass,cum,dick,fuck,tits,pussy]:\n",
    "    add_label(df,1)\n",
    "\n",
    "for df in [nigger, faggot, whore]:\n",
    "    add_label(df,0)\n",
    "\n",
    "add_label(normal,2)\n",
    "\n"
   ]
  },
  {
   "cell_type": "code",
   "execution_count": 8,
   "metadata": {},
   "outputs": [
    {
     "data": {
      "text/html": [
       "<div>\n",
       "<style scoped>\n",
       "    .dataframe tbody tr th:only-of-type {\n",
       "        vertical-align: middle;\n",
       "    }\n",
       "\n",
       "    .dataframe tbody tr th {\n",
       "        vertical-align: top;\n",
       "    }\n",
       "\n",
       "    .dataframe thead th {\n",
       "        text-align: right;\n",
       "    }\n",
       "</style>\n",
       "<table border=\"1\" class=\"dataframe\">\n",
       "  <thead>\n",
       "    <tr style=\"text-align: right;\">\n",
       "      <th></th>\n",
       "      <th>Datetime</th>\n",
       "      <th>Tweet Id</th>\n",
       "      <th>Text</th>\n",
       "      <th>Username</th>\n",
       "      <th>Label</th>\n",
       "    </tr>\n",
       "  </thead>\n",
       "  <tbody>\n",
       "    <tr>\n",
       "      <th>0</th>\n",
       "      <td>2023-04-16 10:10:35</td>\n",
       "      <td>1647543000632033280</td>\n",
       "      <td>@melissa22tx I love to play with your bigger ,...</td>\n",
       "      <td>DNaiksatam</td>\n",
       "      <td>1</td>\n",
       "    </tr>\n",
       "    <tr>\n",
       "      <th>1</th>\n",
       "      <td>2023-04-16 10:10:33</td>\n",
       "      <td>1647542991660171266</td>\n",
       "      <td>Can we start making Saka level dick riding abo...</td>\n",
       "      <td>McCarthinho</td>\n",
       "      <td>1</td>\n",
       "    </tr>\n",
       "    <tr>\n",
       "      <th>2</th>\n",
       "      <td>2023-04-16 10:10:33</td>\n",
       "      <td>1647542991538601984</td>\n",
       "      <td>I just b trynna catch a vibe &amp;amp; niggas be t...</td>\n",
       "      <td>GorgeousTrina1</td>\n",
       "      <td>1</td>\n",
       "    </tr>\n",
       "    <tr>\n",
       "      <th>3</th>\n",
       "      <td>2023-04-16 10:10:32</td>\n",
       "      <td>1647542986727620608</td>\n",
       "      <td>Tom, you world-historical dick. Blaming your o...</td>\n",
       "      <td>portraitinflesh</td>\n",
       "      <td>1</td>\n",
       "    </tr>\n",
       "    <tr>\n",
       "      <th>4</th>\n",
       "      <td>2023-04-16 10:10:31</td>\n",
       "      <td>1647542983871594497</td>\n",
       "      <td>gonna try to get my dick sucked at Silent Hill</td>\n",
       "      <td>Tyrant_Rat</td>\n",
       "      <td>1</td>\n",
       "    </tr>\n",
       "  </tbody>\n",
       "</table>\n",
       "</div>"
      ],
      "text/plain": [
       "              Datetime             Tweet Id   \n",
       "0  2023-04-16 10:10:35  1647543000632033280  \\\n",
       "1  2023-04-16 10:10:33  1647542991660171266   \n",
       "2  2023-04-16 10:10:33  1647542991538601984   \n",
       "3  2023-04-16 10:10:32  1647542986727620608   \n",
       "4  2023-04-16 10:10:31  1647542983871594497   \n",
       "\n",
       "                                                Text         Username  Label  \n",
       "0  @melissa22tx I love to play with your bigger ,...       DNaiksatam      1  \n",
       "1  Can we start making Saka level dick riding abo...      McCarthinho      1  \n",
       "2  I just b trynna catch a vibe &amp; niggas be t...   GorgeousTrina1      1  \n",
       "3  Tom, you world-historical dick. Blaming your o...  portraitinflesh      1  \n",
       "4     gonna try to get my dick sucked at Silent Hill       Tyrant_Rat      1  "
      ]
     },
     "execution_count": 8,
     "metadata": {},
     "output_type": "execute_result"
    }
   ],
   "source": [
    "dick.head()"
   ]
  },
  {
   "cell_type": "code",
   "execution_count": 13,
   "metadata": {},
   "outputs": [
    {
     "data": {
      "text/plain": [
       "0     @JenniferCandoli I cant believe there is still...\n",
       "1     @QueenBinta01 @SilviaKaminda2 Tufiakwa....khos...\n",
       "2     Kelcey always got on some sneakers I never see...\n",
       "3     I just experienced the most traumatizing shit ...\n",
       "4     even w/o the abhorant ass, dawg's desing is ab...\n",
       "5                                           Yes big ass\n",
       "6     @ShiftingGunncr Oh he could feel the prod agai...\n",
       "7     @Valkyrieprops @DavidPTeague @edendally @rawsa...\n",
       "8     @worIdlyinsight However this tier list is lite...\n",
       "9     This is book Alicent a grown ass woman bullyin...\n",
       "10            City boys win when Kunt ass get pregnant😂\n",
       "11    I love seeing wholesome ass videos of people a...\n",
       "12    One of the advantages of learning korean is wh...\n",
       "13    ask aries why her ass lied abt the age gap and...\n",
       "14    Blame the weak, left-wing liberal hypocritical...\n",
       "15    @NuTyrant This tweet is not for girls with sma...\n",
       "16    Quick doodle for @NiceWigg one of the nicest p...\n",
       "17    oh, i owned his ass and didn't even realise......\n",
       "18    Funny how the single moms I was “Talking to” o...\n",
       "19    @zksync your discord authenticator @guildxyz i...\n",
       "Name: Text, dtype: object"
      ]
     },
     "execution_count": 13,
     "metadata": {},
     "output_type": "execute_result"
    }
   ],
   "source": [
    "#cleaning the data\n",
    "ass = ass[ass[\"Text\"].str.contains(\"ass\")]\n",
    "dick = dick[dick[\"Text\"].str.contains(\"dick\")]\n",
    "pussy = pussy[pussy[\"Text\"].str.contains(\"pussy\")]\n",
    "tits= tits[tits[\"Text\"].str.contains(\"tits\")]\n",
    "fuck = fuck[fuck[\"Text\"].str.contains(\"fuck\")]\n",
    "cum = cum[cum[\"Text\"].str.contains(\"cum\")]\n",
    "faggot = faggot[faggot[\"Text\"].str.contains(\"faggot\")]\n",
    "nigger = nigger[nigger[\"Text\"].str.contains(\"nigger\")]\n",
    "whore = whore[whore[\"Text\"].str.contains(\"whore\")]"
   ]
  },
  {
   "cell_type": "code",
   "execution_count": 14,
   "metadata": {},
   "outputs": [
    {
     "data": {
      "text/html": [
       "<div>\n",
       "<style scoped>\n",
       "    .dataframe tbody tr th:only-of-type {\n",
       "        vertical-align: middle;\n",
       "    }\n",
       "\n",
       "    .dataframe tbody tr th {\n",
       "        vertical-align: top;\n",
       "    }\n",
       "\n",
       "    .dataframe thead th {\n",
       "        text-align: right;\n",
       "    }\n",
       "</style>\n",
       "<table border=\"1\" class=\"dataframe\">\n",
       "  <thead>\n",
       "    <tr style=\"text-align: right;\">\n",
       "      <th></th>\n",
       "      <th>Datetime</th>\n",
       "      <th>Tweet Id</th>\n",
       "      <th>Text</th>\n",
       "      <th>Username</th>\n",
       "      <th>Label</th>\n",
       "    </tr>\n",
       "  </thead>\n",
       "  <tbody>\n",
       "    <tr>\n",
       "      <th>72</th>\n",
       "      <td>2023-04-16 10:13:52</td>\n",
       "      <td>1647543824309182464</td>\n",
       "      <td>Guys be confident 😂 with our fantastic form vs...</td>\n",
       "      <td>Linfield18862</td>\n",
       "      <td>1</td>\n",
       "    </tr>\n",
       "    <tr>\n",
       "      <th>3726</th>\n",
       "      <td>2023-04-16 10:28:08</td>\n",
       "      <td>1647547417661779969</td>\n",
       "      <td>@Shaniel_Dannon @elliot_landolt And it’s new @...</td>\n",
       "      <td>Sdevorefl</td>\n",
       "      <td>2</td>\n",
       "    </tr>\n",
       "    <tr>\n",
       "      <th>4636</th>\n",
       "      <td>2023-04-16 10:28:05</td>\n",
       "      <td>1647547405108117504</td>\n",
       "      <td>@fridayy @asakemusik you that so many beautifu...</td>\n",
       "      <td>Nyesom1</td>\n",
       "      <td>2</td>\n",
       "    </tr>\n",
       "    <tr>\n",
       "      <th>2092</th>\n",
       "      <td>2023-04-16 10:28:14</td>\n",
       "      <td>1647547439593975808</td>\n",
       "      <td>@thewire_in @majorgauravarya Sir, where is you...</td>\n",
       "      <td>PrinceGurjar44</td>\n",
       "      <td>2</td>\n",
       "    </tr>\n",
       "    <tr>\n",
       "      <th>1581</th>\n",
       "      <td>2023-04-16 10:28:15</td>\n",
       "      <td>1647547446623449090</td>\n",
       "      <td>I’m still not over this look 😭</td>\n",
       "      <td>evaanjason</td>\n",
       "      <td>2</td>\n",
       "    </tr>\n",
       "  </tbody>\n",
       "</table>\n",
       "</div>"
      ],
      "text/plain": [
       "                 Datetime             Tweet Id   \n",
       "72    2023-04-16 10:13:52  1647543824309182464  \\\n",
       "3726  2023-04-16 10:28:08  1647547417661779969   \n",
       "4636  2023-04-16 10:28:05  1647547405108117504   \n",
       "2092  2023-04-16 10:28:14  1647547439593975808   \n",
       "1581  2023-04-16 10:28:15  1647547446623449090   \n",
       "\n",
       "                                                   Text        Username  Label  \n",
       "72    Guys be confident 😂 with our fantastic form vs...   Linfield18862      1  \n",
       "3726  @Shaniel_Dannon @elliot_landolt And it’s new @...       Sdevorefl      2  \n",
       "4636  @fridayy @asakemusik you that so many beautifu...         Nyesom1      2  \n",
       "2092  @thewire_in @majorgauravarya Sir, where is you...  PrinceGurjar44      2  \n",
       "1581                     I’m still not over this look 😭      evaanjason      2  "
      ]
     },
     "execution_count": 14,
     "metadata": {},
     "output_type": "execute_result"
    }
   ],
   "source": [
    "#cancatenating the datasets\n",
    "df = pd.concat([ass,cum,dick,faggot,fuck,whore,nigger,normal,tits,pussy])\n",
    "df.shape\n",
    "\n",
    "#shuffle the dataframe\n",
    "df = df.sample(frac=1)\n",
    "df.head()"
   ]
  },
  {
   "cell_type": "code",
   "execution_count": 24,
   "metadata": {},
   "outputs": [
    {
     "data": {
      "text/plain": [
       "(7196, 5)"
      ]
     },
     "execution_count": 24,
     "metadata": {},
     "output_type": "execute_result"
    }
   ],
   "source": [
    "df.shape"
   ]
  },
  {
   "cell_type": "code",
   "execution_count": 15,
   "metadata": {},
   "outputs": [
    {
     "data": {
      "text/plain": [
       "Datetime    0\n",
       "Tweet Id    0\n",
       "Text        0\n",
       "Username    0\n",
       "Label       0\n",
       "dtype: int64"
      ]
     },
     "execution_count": 15,
     "metadata": {},
     "output_type": "execute_result"
    }
   ],
   "source": [
    "df.isna().sum()"
   ]
  },
  {
   "cell_type": "code",
   "execution_count": 16,
   "metadata": {},
   "outputs": [
    {
     "data": {
      "text/plain": [
       "72      Guys be confident 😂 with our fantastic form vs...\n",
       "3726    @Shaniel_Dannon @elliot_landolt And it’s new @...\n",
       "4636    @fridayy @asakemusik you that so many beautifu...\n",
       "2092    @thewire_in @majorgauravarya Sir, where is you...\n",
       "1581                       I’m still not over this look 😭\n",
       "                              ...                        \n",
       "2444                                           relateable\n",
       "2024    Quinlan Wood Annabelle Sally Rosanne https://t...\n",
       "18                          Big pussy energy ! Oui madame\n",
       "1105    @Hot_Wheels ready to see some hot wheels monst...\n",
       "153     There's nothing more satisfying than calling s...\n",
       "Name: Text, Length: 7196, dtype: object"
      ]
     },
     "execution_count": 16,
     "metadata": {},
     "output_type": "execute_result"
    }
   ],
   "source": [
    "X = df.Text\n",
    "X"
   ]
  },
  {
   "cell_type": "code",
   "execution_count": 18,
   "metadata": {},
   "outputs": [
    {
     "data": {
      "text/html": [
       "<div>\n",
       "<style scoped>\n",
       "    .dataframe tbody tr th:only-of-type {\n",
       "        vertical-align: middle;\n",
       "    }\n",
       "\n",
       "    .dataframe tbody tr th {\n",
       "        vertical-align: top;\n",
       "    }\n",
       "\n",
       "    .dataframe thead th {\n",
       "        text-align: right;\n",
       "    }\n",
       "</style>\n",
       "<table border=\"1\" class=\"dataframe\">\n",
       "  <thead>\n",
       "    <tr style=\"text-align: right;\">\n",
       "      <th></th>\n",
       "      <th>Datetime</th>\n",
       "      <th>Tweet Id</th>\n",
       "      <th>Text</th>\n",
       "      <th>Username</th>\n",
       "      <th>Label</th>\n",
       "    </tr>\n",
       "  </thead>\n",
       "  <tbody>\n",
       "    <tr>\n",
       "      <th>72</th>\n",
       "      <td>2023-04-16 10:13:52</td>\n",
       "      <td>1647543824309182464</td>\n",
       "      <td>Guys be confident 😂 with our fantastic form vs...</td>\n",
       "      <td>Linfield18862</td>\n",
       "      <td>1</td>\n",
       "    </tr>\n",
       "    <tr>\n",
       "      <th>3726</th>\n",
       "      <td>2023-04-16 10:28:08</td>\n",
       "      <td>1647547417661779969</td>\n",
       "      <td>@Shaniel_Dannon @elliot_landolt And it’s new @...</td>\n",
       "      <td>Sdevorefl</td>\n",
       "      <td>2</td>\n",
       "    </tr>\n",
       "    <tr>\n",
       "      <th>4636</th>\n",
       "      <td>2023-04-16 10:28:05</td>\n",
       "      <td>1647547405108117504</td>\n",
       "      <td>@fridayy @asakemusik you that so many beautifu...</td>\n",
       "      <td>Nyesom1</td>\n",
       "      <td>2</td>\n",
       "    </tr>\n",
       "    <tr>\n",
       "      <th>2092</th>\n",
       "      <td>2023-04-16 10:28:14</td>\n",
       "      <td>1647547439593975808</td>\n",
       "      <td>@thewire_in @majorgauravarya Sir, where is you...</td>\n",
       "      <td>PrinceGurjar44</td>\n",
       "      <td>2</td>\n",
       "    </tr>\n",
       "    <tr>\n",
       "      <th>1581</th>\n",
       "      <td>2023-04-16 10:28:15</td>\n",
       "      <td>1647547446623449090</td>\n",
       "      <td>I’m still not over this look 😭</td>\n",
       "      <td>evaanjason</td>\n",
       "      <td>2</td>\n",
       "    </tr>\n",
       "  </tbody>\n",
       "</table>\n",
       "</div>"
      ],
      "text/plain": [
       "                 Datetime             Tweet Id   \n",
       "72    2023-04-16 10:13:52  1647543824309182464  \\\n",
       "3726  2023-04-16 10:28:08  1647547417661779969   \n",
       "4636  2023-04-16 10:28:05  1647547405108117504   \n",
       "2092  2023-04-16 10:28:14  1647547439593975808   \n",
       "1581  2023-04-16 10:28:15  1647547446623449090   \n",
       "\n",
       "                                                   Text        Username  Label  \n",
       "72    Guys be confident 😂 with our fantastic form vs...   Linfield18862      1  \n",
       "3726  @Shaniel_Dannon @elliot_landolt And it’s new @...       Sdevorefl      2  \n",
       "4636  @fridayy @asakemusik you that so many beautifu...         Nyesom1      2  \n",
       "2092  @thewire_in @majorgauravarya Sir, where is you...  PrinceGurjar44      2  \n",
       "1581                     I’m still not over this look 😭      evaanjason      2  "
      ]
     },
     "execution_count": 18,
     "metadata": {},
     "output_type": "execute_result"
    }
   ],
   "source": [
    "df.head()"
   ]
  },
  {
   "attachments": {},
   "cell_type": "markdown",
   "metadata": {},
   "source": [
    "Now to create the classification model"
   ]
  },
  {
   "cell_type": "code",
   "execution_count": 20,
   "metadata": {},
   "outputs": [],
   "source": [
    "from sklearn.model_selection import train_test_split as tts\n",
    "\n",
    "X = df['Text']\n",
    "y = df['Label']\n",
    "\n",
    "iptrain, iptest, ytrain, ytest = tts(X,y,test_size=0.2,random_state=42)"
   ]
  },
  {
   "cell_type": "code",
   "execution_count": 21,
   "metadata": {},
   "outputs": [],
   "source": [
    "from sklearn.feature_extraction.text import CountVectorizer\n",
    "\n",
    "cv = CountVectorizer(stop_words='english')\n",
    "Xtrain = cv.fit_transform(iptrain)\n",
    "Xtest = cv.transform(iptest)"
   ]
  },
  {
   "cell_type": "code",
   "execution_count": 22,
   "metadata": {},
   "outputs": [
    {
     "name": "stdout",
     "output_type": "stream",
     "text": [
      "<class 'sklearn.ensemble._forest.RandomForestClassifier'>  \n",
      "Train score:  1.0\n",
      "Test score:  0.9902777777777778\n",
      "<class 'sklearn.linear_model._logistic.LogisticRegression'>  \n",
      "Train score:  0.9939193884642112\n",
      "Test score:  0.9868055555555556\n",
      "<class 'sklearn.svm._classes.SVC'>  \n",
      "Train score:  0.9900972897845726\n",
      "Test score:  0.9520833333333333\n"
     ]
    }
   ],
   "source": [
    "from sklearn.ensemble import RandomForestClassifier\n",
    "from sklearn.linear_model import LogisticRegression\n",
    "from sklearn.svm import SVC\n",
    "\n",
    "def model(model_name):\n",
    "    x = model_name()\n",
    "    x.fit(Xtrain,ytrain)\n",
    "    print(model_name,\" \")\n",
    "    print(\"Train score: \", x.score(Xtrain,ytrain))\n",
    "    print(\"Test score: \", x.score(Xtest,ytest))\n",
    "\n",
    "model_list = [RandomForestClassifier, LogisticRegression, SVC]\n",
    "for i in model_list:\n",
    "    model(i)"
   ]
  },
  {
   "attachments": {},
   "cell_type": "markdown",
   "metadata": {},
   "source": [
    "Random Forest Classifier gives the best overall accuracy"
   ]
  },
  {
   "cell_type": "code",
   "execution_count": 25,
   "metadata": {},
   "outputs": [
    {
     "data": {
      "text/plain": [
       "array([[ 129,    0,    0],\n",
       "       [   1,  294,    4],\n",
       "       [   6,    4, 1002]], dtype=int64)"
      ]
     },
     "execution_count": 25,
     "metadata": {},
     "output_type": "execute_result"
    }
   ],
   "source": [
    "from sklearn.metrics import confusion_matrix\n",
    "rf = RandomForestClassifier()\n",
    "rf.fit(Xtrain,ytrain)\n",
    "pred = rf.predict(Xtest)\n",
    "cm = confusion_matrix(pred,ytest)\n",
    "cm"
   ]
  },
  {
   "cell_type": "code",
   "execution_count": 26,
   "metadata": {},
   "outputs": [],
   "source": [
    "import pickle\n",
    "with open('twitter_new.pkl','wb') as f:\n",
    "    pickle.dump(cv,f)\n",
    "    pickle.dump(rf,f)"
   ]
  },
  {
   "cell_type": "code",
   "execution_count": null,
   "metadata": {},
   "outputs": [],
   "source": []
  }
 ],
 "metadata": {
  "kernelspec": {
   "display_name": "Python 3",
   "language": "python",
   "name": "python3"
  },
  "language_info": {
   "codemirror_mode": {
    "name": "ipython",
    "version": 3
   },
   "file_extension": ".py",
   "mimetype": "text/x-python",
   "name": "python",
   "nbconvert_exporter": "python",
   "pygments_lexer": "ipython3",
   "version": "3.10.7"
  },
  "orig_nbformat": 4
 },
 "nbformat": 4,
 "nbformat_minor": 2
}
